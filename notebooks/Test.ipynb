{
 "cells": [
  {
   "cell_type": "code",
   "execution_count": 7,
   "id": "c5141f26-022b-4710-be42-76ebf4244d52",
   "metadata": {},
   "outputs": [],
   "source": [
    ":dep imrs = { path = \"../imrs\" }\n",
    ":dep plotters = { version = \"^0.3.0\", default_features = false, features = [\"evcxr\", \"all_series\"] }\n",
    "extern crate plotters;\n",
    "extern crate imrs;\n",
    "use plotters::prelude::*;\n",
    "use imrs::{tvshow, plot};"
   ]
  },
  {
   "cell_type": "code",
   "execution_count": 26,
   "id": "2c6f3535-a1f0-44ae-8220-f4d6457ee0a6",
   "metadata": {},
   "outputs": [
    {
     "name": "stdout",
     "output_type": "stream",
     "text": [
      "EVCXR_END_CONTENT\n"
     ]
    },
    {
     "data": {
      "text/plain": [
       "EVCXR_BEGIN_CONTENT text/html\n",
       "<div style=\"width: 50%\"><svg width=\"1200\" height=\"400\" viewBox=\"0 0 1200 400\" xmlns=\"http://www.w3.org/2000/svg\">\n",
       "<rect x=\"0\" y=\"0\" width=\"1200\" height=\"400\" opacity=\"1\" fill=\"#0000FF\" stroke=\"none\"/>\n",
       "</svg>\n",
       "</div>"
      ]
     },
     "execution_count": 26,
     "metadata": {},
     "output_type": "execute_result"
    }
   ],
   "source": [
    "let results = tvshow::test_ratings();\n",
    "evcxr_figure((1200, 400), |root| {\n",
    "    root.fill(&BLUE);\n",
    "    plot::create_plot_with_backend(&root, &results.name, results.ratings)?;\n",
    "    Ok(())\n",
    "}).style(\"width: 50%\")"
   ]
  }
 ],
 "metadata": {
  "kernelspec": {
   "display_name": "Rust",
   "language": "rust",
   "name": "rust"
  },
  "language_info": {
   "codemirror_mode": "rust",
   "file_extension": ".rs",
   "mimetype": "text/rust",
   "name": "Rust",
   "pygment_lexer": "rust",
   "version": ""
  }
 },
 "nbformat": 4,
 "nbformat_minor": 5
}
